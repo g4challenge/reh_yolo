{
 "cells": [
  {
   "cell_type": "code",
   "execution_count": 2,
   "metadata": {
    "slideshow": {
     "slide_type": "slide"
    },
    "tags": []
   },
   "outputs": [],
   "source": [
    "import exifread\n",
    "# Open image file for reading (binary mode)\n",
    "f = open(\"../data/raw/IMAG0001.JPG\", 'rb')\n",
    "\n",
    "# Return Exif tags\n",
    "tags = exifread.process_file(f)"
   ]
  },
  {
   "cell_type": "markdown",
   "metadata": {
    "slideshow": {
     "slide_type": "slide"
    },
    "tags": []
   },
   "source": [
    "## First Explore"
   ]
  },
  {
   "cell_type": "code",
   "execution_count": 48,
   "metadata": {},
   "outputs": [
    {
     "name": "stdout",
     "output_type": "stream",
     "text": [
      "Time of image: 2020-12-04 17:31:53\n"
     ]
    }
   ],
   "source": [
    "# investigate time distribution of images\n",
    "\n",
    "import pandas as pd\n",
    "import numpy as np\n",
    "import datetime\n",
    "import os \n",
    "\n",
    "\n",
    "time = tags['EXIF DateTimeOriginal'].values\n",
    "time = datetime.datetime.strptime(time, '%Y:%m:%d %H:%M:%S')\n",
    "print('Time of image:', time)\n",
    "\n",
    "\n",
    "def get_image_times(path):\n",
    "    \"\"\"\n",
    "    Get time of image from EXIF data\n",
    "    :param path: path to image\n",
    "    :return: dataframe with time and path of image\n",
    "    \"\"\"\n",
    "    times = pd.DataFrame(columns=['time', 'path'])\n",
    "    for filename in os.listdir(path):\n",
    "        f = open(os.path.join(path, filename), 'rb')\n",
    "        tags = exifread.process_file(f)\n",
    "        time = tags['EXIF DateTimeOriginal'].values\n",
    "        time = datetime.datetime.strptime(time, '%Y:%m:%d %H:%M:%S')\n",
    "        times = pd.concat([times, pd.DataFrame({'time': time, 'path': os.path.join(path, filename)}, index=[0])])\n",
    "    return times"
   ]
  },
  {
   "cell_type": "code",
   "execution_count": 50,
   "metadata": {},
   "outputs": [],
   "source": [
    "image_times = get_image_times('../data/raw')"
   ]
  },
  {
   "cell_type": "code",
   "execution_count": 52,
   "metadata": {},
   "outputs": [
    {
     "data": {
      "image/png": "[encoded data removed]",
      "text/plain": [
       "<Figure size 720x360 with 1 Axes>"
      ]
     },
     "metadata": {
      "needs_background": "light"
     },
     "output_type": "display_data"
    }
   ],
   "source": [
    "# plot image times daily\n",
    "\n",
    "import matplotlib.pyplot as plt\n",
    "import matplotlib.dates as mdates\n",
    "import matplotlib.ticker as ticker\n",
    "import matplotlib.patches as patches\n",
    "import matplotlib.cm as cm\n",
    "import matplotlib.colors as colors\n",
    "import matplotlib.colorbar as colorbar\n",
    "import matplotlib.image as mpimg\n",
    "import matplotlib.gridspec as gridspec\n",
    "\n",
    "image_times['timestamp'] = pd.to_datetime(image_times['time'])\n",
    "image_times['day'] = image_times['timestamp'].dt.dayofyear\n",
    "image_times['hour'] = image_times['timestamp'].dt.hour\n",
    "image_times['minute'] = image_times['timestamp'].dt.minute\n",
    "\n",
    "# plot histogram hour\n",
    "fig, ax = plt.subplots(figsize=(10, 5))\n",
    "ax.hist(image_times['hour'], bins=24)\n",
    "ax.set_xlabel('Time')\n",
    "ax.set_ylabel('Hour')\n",
    "ax.set_title('Deer Feeding per Hour')\n",
    "plt.show()"
   ]
  }
 ],
 "metadata": {
  "kernelspec": {
   "display_name": "Python 3.8.13 ('rehyolo-CoBWgwE--py3.8')",
   "language": "python",
   "name": "python3"
  },
  "language_info": {
   "codemirror_mode": {
    "name": "ipython",
    "version": 3
   },
   "file_extension": ".py",
   "mimetype": "text/x-python",
   "name": "python",
   "nbconvert_exporter": "python",
   "pygments_lexer": "ipython3",
   "version": "3.8.13"
  },
  "toc-autonumbering": true,
  "vscode": {
   "interpreter": {
    "hash": "c53f586a78f2f8a3eeee1a78163f476755e3ac898aa8a08b93f992ebbd6e4c26"
   }
  }
 },
 "nbformat": 4,
 "nbformat_minor": 4
}
