{
 "cells": [
  {
   "cell_type": "code",
   "execution_count": null,
   "metadata": {},
   "outputs": [],
   "source": [
    "import onnxruntime as ort\n",
    "ort_sess = ort.InferenceSession(\"deploy/ONNX/weights/yolov6n.onnx\")\n",
    "ort_sess.GetInputTypeInfo(0).GetTensorTypeAndShapeInfo().GetShape()\n",
    "\n",
    "ort_sess.get_inputs()[0].name\n",
    "ort_sess.get_inputs()[0].type\n",
    "ort_sess.get_inputs()[0].shape\n",
    "import numpy as np\n",
    "import PIL\n",
    "from PIL import Image\n",
    "image = Image.open(\"data/images/image2.jpg\")\n",
    "data = np.asarray(image)\n",
    "data.shape\n",
    "data.reshape(-1).shape\n",
    "data.moveaxis(0,-1).shape\n",
    "np.moveaxis(data, 2,-1).shape\n",
    "np.swapaxes(data, 0,2).shape\n",
    "data2=np.swapaxes(data, 0,2)\n",
    "[data2].shape\n",
    "np.expand_dims(data2, axis=0)\n",
    "np.expand_dims(data2, axis=0).shape\n",
    "data3=np.expand_dims(data2, axis=0)\n",
    "data3/3\n",
    "data3/255\n",
    "ort_sess.run(None, {'image_array': data3/255})\n",
    "ort_sess.get_inputs()[0]\n",
    "ort_sess.get_inputs()[0].name\n",
    "ort_sess.run(None, {'image_arrays': data3/255})\n",
    "ort_sess.run(None, {'image_arrays': data3.astype(float32)/255})\n",
    "ort_sess.run(None, {'image_arrays': data3.astype(float)/255})\n",
    "ort_sess.run(None, {'image_arrays': data3.astype(np.float32)/255})\n",
    "import readline\n",
    "for i in range(readline.get_current_history_length()):\n",
    "    print (readline.get_history_item(i + 1))"
   ]
  }
 ],
 "metadata": {
  "language_info": {
   "name": "python"
  },
  "orig_nbformat": 4
 },
 "nbformat": 4,
 "nbformat_minor": 2
}
